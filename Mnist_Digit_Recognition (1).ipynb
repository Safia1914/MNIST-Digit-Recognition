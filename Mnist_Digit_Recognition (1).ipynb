{
  "nbformat": 4,
  "nbformat_minor": 0,
  "metadata": {
    "colab": {
      "provenance": []
    },
    "kernelspec": {
      "name": "python3",
      "display_name": "Python 3"
    },
    "language_info": {
      "name": "python"
    }
  },
  "cells": [
    {
      "cell_type": "code",
      "execution_count": 11,
      "metadata": {
        "id": "bB7Ts9KH0q2j"
      },
      "outputs": [],
      "source": [
        "import numpy as np\n",
        "import matplotlib.pyplot as plt\n",
        "from tensorflow.keras.datasets import mnist\n",
        "from tensorflow.keras.models import Sequential\n",
        "from tensorflow.keras.layers import Dense, Flatten\n",
        "from tensorflow.keras.utils import to_categorical\n"
      ]
    },
    {
      "cell_type": "markdown",
      "source": [
        "numpy: for numerical operations.\n",
        "\n",
        "matplotlib.pyplot: for plotting images (optional).\n",
        "\n",
        "mnist: built-in dataset from Keras containing 70,000 handwritten digits.\n",
        "\n",
        "Sequential: a linear stack of layers.\n",
        "\n",
        "Dense: fully connected neural network layer.\n",
        "\n",
        "Flatten: reshapes image into a 1D vector.\n",
        "\n",
        "to_categorical: converts class labels into one-hot encoded vectors."
      ],
      "metadata": {
        "id": "dJTxkl2jNr6J"
      }
    },
    {
      "cell_type": "markdown",
      "source": [
        "Load and Explore the Data\n",
        "\n"
      ],
      "metadata": {
        "id": "g00fUCVk1wSk"
      }
    },
    {
      "cell_type": "code",
      "source": [
        "(x_train, y_train), (x_test, y_test) = mnist.load_data()\n"
      ],
      "metadata": {
        "id": "E9dSu7tD16u-"
      },
      "execution_count": 12,
      "outputs": []
    },
    {
      "cell_type": "markdown",
      "source": [
        "mnist.load_data() loads 60,000 training and 10,000 test 28x28 grayscale images of digits 0–9."
      ],
      "metadata": {
        "id": "pgH6H9SO2GEw"
      }
    },
    {
      "cell_type": "markdown",
      "source": [
        "**Visualize Some Digits**\n"
      ],
      "metadata": {
        "id": "yXLwKBzD2UzJ"
      }
    },
    {
      "cell_type": "code",
      "source": [
        "\n",
        "plt.figure(figsize=(6,6))\n",
        "for i in range(9):\n",
        "    plt.subplot(3,3,i+1)\n",
        "    plt.imshow(x_train[i], cmap='gray')\n",
        "    plt.title(f\"Label: {y_train[i]}\")\n",
        "    plt.axis('off')\n",
        "plt.tight_layout()\n",
        "plt.show()\n"
      ],
      "metadata": {
        "colab": {
          "base_uri": "https://localhost:8080/",
          "height": 607
        },
        "id": "fSd-BxNQ11s4",
        "outputId": "a8c5417f-2417-4ed8-dc48-7db0c15908b0"
      },
      "execution_count": 13,
      "outputs": [
        {
          "output_type": "display_data",
          "data": {
            "text/plain": [
              "<Figure size 600x600 with 9 Axes>"
            ],
            "image/png": "[encoded data removed]"
          },
          "metadata": {}
        }
      ]
    },
    {
      "cell_type": "markdown",
      "source": [
        "**Preprocess the Data**\n"
      ],
      "metadata": {
        "id": "Q78on2532sW9"
      }
    },
    {
      "cell_type": "code",
      "source": [
        "# Normalize pixel values to [0, 1]\n",
        "x_train = x_train / 255.0\n",
        "x_test = x_test / 255.0\n",
        "\n",
        "# One-hot encode the labels\n",
        "y_train = to_categorical(y_train)\n",
        "y_test = to_categorical(y_test)\n"
      ],
      "metadata": {
        "id": "qVdVY9xU2yog"
      },
      "execution_count": 14,
      "outputs": []
    },
    {
      "cell_type": "markdown",
      "source": [
        "Explanation:\n",
        "\n",
        "x_train / 255.0: Scales pixel values to range 0–1.\n",
        "\n",
        "to_categorical: Converts labels like 5 to [0,0,0,0,0,1,0,0,0,0].\n",
        "\n"
      ],
      "metadata": {
        "id": "_0lRirOB3Pby"
      }
    },
    {
      "cell_type": "markdown",
      "source": [
        "**Build the Model**"
      ],
      "metadata": {
        "id": "0WWo3knj3WVt"
      }
    },
    {
      "cell_type": "code",
      "source": [
        "model = Sequential([\n",
        "    Flatten(input_shape=(28, 28)),  # Convert 2D to 1D\n",
        "    Dense(128, activation='relu'), # Hidden layer\n",
        "    Dense(10, activation='softmax') # Output layer (10 classes)\n",
        "])\n"
      ],
      "metadata": {
        "id": "x8T5XdGk3Yku"
      },
      "execution_count": 15,
      "outputs": []
    },
    {
      "cell_type": "markdown",
      "source": [
        "Explanation:\n",
        "\n",
        "Flatten: Converts 28x28 image into a 784-element vector.\n",
        "\n",
        "Dense(128): Hidden layer with ReLU activation.\n",
        "\n",
        "Dense(10): Output layer for 10 digit classes with softmax activation (probabilities)."
      ],
      "metadata": {
        "id": "qRTp5Ii93grD"
      }
    },
    {
      "cell_type": "markdown",
      "source": [
        "**Compile the Model**"
      ],
      "metadata": {
        "id": "8BOQnFwY3muy"
      }
    },
    {
      "cell_type": "code",
      "source": [
        "model.compile(optimizer='adam',\n",
        "              loss='categorical_crossentropy',\n",
        "              metrics=['accuracy'])\n"
      ],
      "metadata": {
        "id": "nizQ9obZ3RUW"
      },
      "execution_count": 16,
      "outputs": []
    },
    {
      "cell_type": "markdown",
      "source": [
        "Explanation:\n",
        "\n",
        "adam: Optimization algorithm.\n",
        "\n",
        "categorical_crossentropy: Loss function for multiclass classification.\n",
        "\n",
        "accuracy: Evaluation metric."
      ],
      "metadata": {
        "id": "75uQrt-03u55"
      }
    },
    {
      "cell_type": "markdown",
      "source": [
        "**Train the Model**\n"
      ],
      "metadata": {
        "id": "-lnzoYR-3yYq"
      }
    },
    {
      "cell_type": "code",
      "source": [
        "model.fit(x_train, y_train, epochs=5, batch_size=32, validation_split=0.1)\n"
      ],
      "metadata": {
        "colab": {
          "base_uri": "https://localhost:8080/"
        },
        "id": "ZB8aQfYW3wW6",
        "outputId": "b5cfc5ea-5545-4169-c3d4-e48c84ca3b4e"
      },
      "execution_count": 17,
      "outputs": [
        {
          "output_type": "stream",
          "name": "stdout",
          "text": [
            "Epoch 1/5\n",
            "\u001b[1m1688/1688\u001b[0m \u001b[32m━━━━━━━━━━━━━━━━━━━━\u001b[0m\u001b[37m\u001b[0m \u001b[1m9s\u001b[0m 5ms/step - accuracy: 0.8705 - loss: 0.4583 - val_accuracy: 0.9637 - val_loss: 0.1356\n",
            "Epoch 2/5\n",
            "\u001b[1m1688/1688\u001b[0m \u001b[32m━━━━━━━━━━━━━━━━━━━━\u001b[0m\u001b[37m\u001b[0m \u001b[1m7s\u001b[0m 4ms/step - accuracy: 0.9623 - loss: 0.1277 - val_accuracy: 0.9748 - val_loss: 0.0878\n",
            "Epoch 3/5\n",
            "\u001b[1m1688/1688\u001b[0m \u001b[32m━━━━━━━━━━━━━━━━━━━━\u001b[0m\u001b[37m\u001b[0m \u001b[1m8s\u001b[0m 5ms/step - accuracy: 0.9764 - loss: 0.0805 - val_accuracy: 0.9762 - val_loss: 0.0814\n",
            "Epoch 4/5\n",
            "\u001b[1m1688/1688\u001b[0m \u001b[32m━━━━━━━━━━━━━━━━━━━━\u001b[0m\u001b[37m\u001b[0m \u001b[1m8s\u001b[0m 5ms/step - accuracy: 0.9836 - loss: 0.0572 - val_accuracy: 0.9760 - val_loss: 0.0782\n",
            "Epoch 5/5\n",
            "\u001b[1m1688/1688\u001b[0m \u001b[32m━━━━━━━━━━━━━━━━━━━━\u001b[0m\u001b[37m\u001b[0m \u001b[1m9s\u001b[0m 4ms/step - accuracy: 0.9872 - loss: 0.0438 - val_accuracy: 0.9775 - val_loss: 0.0753\n"
          ]
        },
        {
          "output_type": "execute_result",
          "data": {
            "text/plain": [
              "<keras.src.callbacks.history.History at 0x7d87090c9190>"
            ]
          },
          "metadata": {},
          "execution_count": 17
        }
      ]
    },
    {
      "cell_type": "markdown",
      "source": [
        " Explanation:\n",
        "\n",
        "epochs=5: Number of times the model sees the entire dataset.\n",
        "\n",
        "batch_size=32: Number of samples per gradient update.\n",
        "\n",
        "validation_split=0.1: 10% of training data used for validation.\n",
        "\n"
      ],
      "metadata": {
        "id": "xIYJDM5N4Gnh"
      }
    },
    {
      "cell_type": "markdown",
      "source": [
        " **Evaluate the Model**"
      ],
      "metadata": {
        "id": "YYmXGKax4IBo"
      }
    },
    {
      "cell_type": "code",
      "source": [
        "loss, accuracy = model.evaluate(x_test, y_test)\n",
        "print(f\"Test Accuracy: {accuracy * 100:.2f}%\")\n"
      ],
      "metadata": {
        "colab": {
          "base_uri": "https://localhost:8080/"
        },
        "id": "HBvcvx144Llg",
        "outputId": "46e7b7ab-7470-4241-c8aa-89ccae1e4836"
      },
      "execution_count": 18,
      "outputs": [
        {
          "output_type": "stream",
          "name": "stdout",
          "text": [
            "\u001b[1m313/313\u001b[0m \u001b[32m━━━━━━━━━━━━━━━━━━━━\u001b[0m\u001b[37m\u001b[0m \u001b[1m1s\u001b[0m 2ms/step - accuracy: 0.9732 - loss: 0.0832\n",
            "Test Accuracy: 97.76%\n"
          ]
        }
      ]
    },
    {
      "cell_type": "markdown",
      "source": [
        "**Predict on Test Data**\n"
      ],
      "metadata": {
        "id": "LP60qNji4UOz"
      }
    },
    {
      "cell_type": "code",
      "source": [
        "predictions = model.predict(x_test)\n",
        "\n",
        "# Show one prediction\n",
        "index = 0\n",
        "plt.imshow(x_test[index], cmap='gray')\n",
        "plt.title(f\"Predicted: {np.argmax(predictions[index])}\")\n",
        "plt.axis('off')\n",
        "plt.show()\n"
      ],
      "metadata": {
        "colab": {
          "base_uri": "https://localhost:8080/",
          "height": 445
        },
        "id": "Xyn89_2n4X_q",
        "outputId": "1663d2de-5f65-406b-8842-3cb3cec6885e"
      },
      "execution_count": 19,
      "outputs": [
        {
          "output_type": "stream",
          "name": "stdout",
          "text": [
            "\u001b[1m313/313\u001b[0m \u001b[32m━━━━━━━━━━━━━━━━━━━━\u001b[0m\u001b[37m\u001b[0m \u001b[1m1s\u001b[0m 3ms/step\n"
          ]
        },
        {
          "output_type": "display_data",
          "data": {
            "text/plain": [
              "<Figure size 640x480 with 1 Axes>"
            ],
            "image/png": "[encoded data removed]"
          },
          "metadata": {}
        }
      ]
    },
    {
      "cell_type": "markdown",
      "source": [
        "**Conclusion**\n",
        "\n",
        "The MNIST Digit Recognition project successfully demonstrates the application of machine learning and deep learning techniques to solve a classic image classification problem. By preprocessing grayscale image data and training a neural network using TensorFlow/Keras, the model was able to accurately classify handwritten digits from 0 to 9.\n",
        "\n",
        "This project not only solidified my understanding of key concepts such as data preprocessing, neural network architecture, activation functions, loss functions, and evaluation metrics but also helped me gain hands-on experience with real-world datasets and model deployment using Google Colab.\n",
        "\n",
        "It lays a strong foundation for more advanced projects involving computer vision, convolutional neural networks (CNNs), and AI-powered applications in the future.\n",
        "\n"
      ],
      "metadata": {
        "id": "xhvUWo9kRddp"
      }
    }
  ]
}